{
  "cells": [
    {
      "cell_type": "markdown",
      "metadata": {
        "id": "9LS9k5qHnkD0"
      },
      "source": [
        "# Práctica 6: Análisis de Componentes Principales (PCA)\n",
        "### Autores: Javier Tirado Garín, Luis Montesano\n",
        "### Versión 1.0\n",
        "### Fecha: 15-3-2024\n",
        "\n",
        "---"
      ]
    },
    {
      "cell_type": "markdown",
      "metadata": {},
      "source": [
        "En este template, hay alguna función que requiere `scikit-learn>=1.3`. La siguiente celda <br>\n",
        "comprueba la versión de `scikit-learn` que está instalada en tu entorno. Si no está esta versión <br>\n",
        "y se está trabajando en `Google Colab`, la siguiente celda instala la versión necesaria. Si se está <br>\n",
        "trabajando en local (p. ej. con `conda`), por favor, instala versión necesaria manualmente."
      ]
    },
    {
      "cell_type": "code",
      "execution_count": 18,
      "metadata": {
        "id": "Po_2T7vRokWI"
      },
      "outputs": [
        {
          "name": "stdout",
          "output_type": "stream",
          "text": [
            "La versión de scikit-learn (1.4.1.post1) es suficiente (>= 1.3).\n"
          ]
        }
      ],
      "source": [
        "from packaging import version\n",
        "\n",
        "import sklearn\n",
        "\n",
        "# en Google Colab?\n",
        "try:\n",
        "    import google.colab  # type:ignore\n",
        "\n",
        "    IN_COLAB = True\n",
        "except ImportError:\n",
        "    IN_COLAB = False\n",
        "\n",
        "# sklearn >= 1.3?\n",
        "sklearn_version = sklearn.__version__\n",
        "if version.parse(sklearn_version) < version.parse(\"1.3\"):\n",
        "    if IN_COLAB:\n",
        "        print(\"Instalando scikit-learn version >= 1.3. ...\")\n",
        "        %pip uninstall scikit-learn -y\n",
        "        %pip install -U scikit-learn\n",
        "    else:\n",
        "        msg = \"Por favor, actualiza manualmente la versión de scikit-learn a >= 1.3 en tu entorno virtual.\"\n",
        "        raise ImportError(msg)\n",
        "else:\n",
        "    print(f\"La versión de scikit-learn ({sklearn_version}) es suficiente (>= 1.3).\")"
      ]
    },
    {
      "cell_type": "markdown",
      "metadata": {
        "id": "22ZVBNurnkD1"
      },
      "source": [
        "Como de costumbre, primero importamos las librerías y funciones/clases que emplearemos en la práctica:"
      ]
    },
    {
      "cell_type": "code",
      "execution_count": 2,
      "metadata": {
        "id": "x6RETktunkD2"
      },
      "outputs": [],
      "source": [
        "from time import perf_counter\n",
        "\n",
        "import ipywidgets as widgets\n",
        "import matplotlib.pyplot as plt\n",
        "import numpy as np\n",
        "from sklearn.datasets import fetch_openml\n",
        "from sklearn.decomposition import PCA\n",
        "from sklearn.discriminant_analysis import LinearDiscriminantAnalysis\n",
        "from sklearn.metrics import (\n",
        "    ConfusionMatrixDisplay,\n",
        "    accuracy_score,\n",
        "    classification_report,\n",
        ")\n",
        "from sklearn.model_selection import (\n",
        "    ValidationCurveDisplay,  # type: ignore\n",
        "    train_test_split,\n",
        ")\n",
        "\n",
        "# descomenta %matplotlib qt si prefieres plots interactivos\n",
        "%matplotlib inline\n",
        "# %matplotlib qt"
      ]
    },
    {
      "cell_type": "markdown",
      "metadata": {
        "id": "F0ZnxFxcnkD2"
      },
      "source": [
        "## 0. Carga de datos"
      ]
    },
    {
      "cell_type": "markdown",
      "metadata": {
        "id": "SA9mTdY_nkD2"
      },
      "source": [
        "En esta práctica vamos a emplear la base de datos [**Fashion-MNIST**](https://github.com/zalandoresearch/fashion-mnist). <br>\n",
        "Su formato es el mismo a *MNIST*, pero en vez dígitos, nuestro objetivo es clasificar prendas de ropa.\n",
        "\n",
        "En primer lugar, cargamos Fashion-MNIST en la RAM:"
      ]
    },
    {
      "cell_type": "code",
      "execution_count": 3,
      "metadata": {
        "id": "3Py-S7fynkD3"
      },
      "outputs": [],
      "source": [
        "# El dataset puede encontrarse en:\n",
        "# https://github.com/zalandoresearch/fashion-mnist\n",
        "# Para mayor facilidad, vamos a cargarlo directamente de:\n",
        "# https://www.openml.org/search?type=data&sort=runs&id=40996&status=active\n",
        "fashion_mnist = fetch_openml(\"Fashion-MNIST\", parser=\"pandas\")\n",
        "\n",
        "# numpy ndarrays con las features y el target\n",
        "X = fashion_mnist.data.values / 255  # (70000, 784=28x28) en [0, 1]\n",
        "y = fashion_mnist.target.values.astype(int)  # (70000,) en [0, 9]\n",
        "\n",
        "# el dataset está estructurado de tal forma que las primeras 60.000 instancias\n",
        "# (imágenes) son de entrenamiento y las últimas 10.000 de test:\n",
        "X_train, X_test, y_train, y_test = train_test_split(\n",
        "    X, y, test_size=int(1e4), shuffle=False\n",
        ")\n",
        "\n",
        "# En Fashion-MNIST, cada valor númerico se corresponde con una prenda. Usaremos el\n",
        "# siguiente diccionario para el mapeo número -> prenda:\n",
        "target_names = {\n",
        "    0: \"T-shirt/top\",\n",
        "    1: \"Trouser\",\n",
        "    2: \"Pullover\",\n",
        "    3: \"Dress\",\n",
        "    4: \"Coat\",\n",
        "    5: \"Sandal\",\n",
        "    6: \"Shirt\",\n",
        "    7: \"Sneaker\",\n",
        "    8: \"Bag\",\n",
        "    9: \"Ankle boot\",\n",
        "}\n",
        "\n",
        "# o si las preferimos recuperar en español:\n",
        "target_names_esp = {\n",
        "    0: \"Camiseta\",\n",
        "    1: \"Pantalón\",\n",
        "    2: \"Suéter\",\n",
        "    3: \"Vestido\",\n",
        "    4: \"Abrigo\",\n",
        "    5: \"Sandalia\",\n",
        "    6: \"Camisa\",\n",
        "    7: \"Zapatilla\",\n",
        "    8: \"Bolso\",\n",
        "    9: \"Bota\",\n",
        "}"
      ]
    },
    {
      "cell_type": "markdown",
      "metadata": {
        "id": "7nQu7y5GnkD4"
      },
      "source": [
        "Vamos a explorar brevemente el dataset para hacernos una idea de su contenido:"
      ]
    },
    {
      "cell_type": "code",
      "execution_count": 4,
      "metadata": {
        "colab": {
          "base_uri": "https://localhost:8080/"
        },
        "id": "FcNvdmaPnkD4",
        "outputId": "91f18027-cddc-43db-85ec-160b80d500f4"
      },
      "outputs": [
        {
          "name": "stdout",
          "output_type": "stream",
          "text": [
            "¿Cuántas imágenes de cada prenda hay en el dataset de entrenamiento?:\n",
            "¿Está balanceado?🤔:\n",
            "\n",
            "Prenda               #Imágenes\n",
            "------------------------------\n",
            "Camiseta                 6000\n",
            "Pantalón                 6000\n",
            "Suéter                   6000\n",
            "Vestido                  6000\n",
            "Abrigo                   6000\n",
            "Sandalia                 6000\n",
            "Camisa                   6000\n",
            "Zapatilla                6000\n",
            "Bolso                    6000\n",
            "Bota                     6000\n"
          ]
        }
      ],
      "source": [
        "print(\"¿Cuántas imágenes de cada prenda hay en el dataset de entrenamiento?:\")\n",
        "print(\"¿Está balanceado?\\N{THINKING FACE}:\\n\")\n",
        "unique, counts = np.unique(y_train, return_counts=True)\n",
        "print(f\"{'Prenda':20} #Imágenes\")\n",
        "print(\"-\" * 30)\n",
        "for u, c in zip(unique, counts):\n",
        "    print(f\"{target_names_esp[u]:25}{c}\")"
      ]
    },
    {
      "cell_type": "markdown",
      "metadata": {
        "id": "m4Y-Ozk-nkD5"
      },
      "source": [
        "Vamos a definir una función que nos permita visualizar una muestra de imágenes del dataset:"
      ]
    },
    {
      "cell_type": "code",
      "execution_count": 5,
      "metadata": {
        "id": "AvHmM9r5nkD5"
      },
      "outputs": [],
      "source": [
        "def visualize_subset_in_grid(\n",
        "    images,\n",
        "    labels,\n",
        "    predicted_labels=None,\n",
        "    subset=25,\n",
        "    esp=True,\n",
        "    random=True,\n",
        "    ncols=None,\n",
        "    fig=None,\n",
        "    ax=None,\n",
        "):\n",
        "    \"\"\"Visualiza un subset de imágenes en una cuadrícula.\n",
        "\n",
        "    Args:\n",
        "        images: (n, 784) array con n imágenes 28x28 de Fasion-MNIST.\n",
        "        labels: (n,) array con las etiquetas (numéricas) de las n imágenes.\n",
        "        predicted_labels: (n,) array con las etiquetas predichas por un modelo.\n",
        "        subset: Si es un integer, número de imágenes a visualizar, si es una secuencia\n",
        "            de enteros, visualiza las imágenes con esos índices.\n",
        "        esp: Si True, las etiquetas se mostrarán en español.\n",
        "        random: Si True y subset es un entero, las imágenes se seleccionarán\n",
        "            aleatoriamente.\n",
        "        ncols: Número de columnas de la cuadrícula. Si es None, se usará una grid\n",
        "            cuadrada.\n",
        "        fig: Figura de matplotlib en la que visualizar las imágenes. Si es None, se\n",
        "            creará una nueva figura.\n",
        "        ax: Array de ejes de matplotlib en los que visualizar las imágenes. Si es None,\n",
        "            se crearán nuevos ejes.\n",
        "    \"\"\"\n",
        "    assert images.shape[1] == 784, \"Las imágenes deben ser de 28x28 píxeles.\"\n",
        "    assert len(images) == len(labels), \"#imagenes debe coincidir con el de labels.\"\n",
        "\n",
        "    if isinstance(subset, int):\n",
        "        if random:\n",
        "            subset = np.random.choice(images.shape[0], subset, replace=False)\n",
        "        else:\n",
        "            subset = np.arange(subset)\n",
        "\n",
        "    n = len(subset)\n",
        "    if ncols is None:\n",
        "        ncols = int(np.ceil(np.sqrt(n)))\n",
        "    nrows = int(np.ceil(n / ncols))\n",
        "\n",
        "    def get_title_and_color(i):\n",
        "        if predicted_labels is None:\n",
        "            if isinstance(labels[i], str):\n",
        "                return labels[i], {\"color\": \"black\"}\n",
        "            else:\n",
        "                return names[labels[i]], {\"color\": \"black\"}\n",
        "\n",
        "        is_correct = labels[i] == predicted_labels[i]\n",
        "        symbol = (\n",
        "            f\"\\N{HEAVY CHECK MARK}\" if is_correct else f\"\\N{HEAVY MULTIPLICATION X}\"\n",
        "        )\n",
        "        title = f\"{names[labels[i]]}/{names[predicted_labels[i]]} {symbol}\"\n",
        "        color = \"green\" if labels[i] == predicted_labels[i] else \"red\"\n",
        "        return title, {\"color\": color}\n",
        "\n",
        "    if fig is None or ax is None:\n",
        "        fig, ax = plt.subplots(nrows, ncols, figsize=(ncols * 2, nrows * 2))\n",
        "    names = target_names_esp if esp else target_names\n",
        "    for i, axi in zip(subset, ax.ravel()):\n",
        "        axi.imshow(images[i].reshape(28, 28), cmap=\"gray\")\n",
        "        axi.set_title(*get_title_and_color(i))\n",
        "        axi.axis(\"off\")\n",
        "    fig.tight_layout()"
      ]
    },
    {
      "cell_type": "markdown",
      "metadata": {
        "id": "YxqQ0HmInkD5"
      },
      "source": [
        "Por cada ejecución de la siguiente celda se visualizan distintas muestras de Fashion-MNIST."
      ]
    },
    {
      "cell_type": "code",
      "execution_count": 6,
      "metadata": {
        "colab": {
          "base_uri": "https://localhost:8080/",
          "height": 607
        },
        "id": "aj1rq26RnkD6",
        "outputId": "deff7840-3a3d-47b2-9a3a-cc9a72e60093"
      },
      "outputs": [
        {
          "data": {
            "image/png": "[encoded data removed]",
            "text/plain": [
              "<Figure size 600x600 with 9 Axes>"
            ]
          },
          "metadata": {},
          "output_type": "display_data"
        }
      ],
      "source": [
        "# visualizar un subset de las imágenes\n",
        "visualize_subset_in_grid(X_train, y_train, subset=9, random=True)"
      ]
    },
    {
      "cell_type": "markdown",
      "metadata": {
        "id": "xg4W7yKwnkD6"
      },
      "source": [
        "## 1. Preparación de nuestro clasificador (Práctica 5)\n",
        "\n",
        "Antes de aplicar **PCA** a Fashion-MNIST, a modo de referencia, vamos a crear un <br/>\n",
        "clasificador Bayesiano \"base\", tal y como se hizo en la Práctica 5, pero <br/>\n",
        "particularizándolo a las estadísticas de **Fashion-MNIST**.\n",
        "\n",
        "Este modelo, entrenado con los datos originales, nos servirá para comparar y comprobar <br/>\n",
        "la eficacia de **PCA** en la reducción de dimensionalidad."
      ]
    },
    {
      "cell_type": "markdown",
      "metadata": {
        "id": "S_6CARKFnkD7"
      },
      "source": [
        "Primero definimos algunas funciones auxiliares que nos servirán para evaluar los clasificadores..."
      ]
    },
    {
      "cell_type": "code",
      "execution_count": 7,
      "metadata": {
        "id": "wSrll0IjnkD7"
      },
      "outputs": [],
      "source": [
        "def evaluar_clasificador(\n",
        "    clf,\n",
        "    X_train,\n",
        "    y_train,\n",
        "    X_test,\n",
        "    y_test,\n",
        "    do_report=True,\n",
        "    do_cm=True,\n",
        "    display_labels=None,\n",
        "):\n",
        "    \"\"\"Evaluación de un clasificador.\n",
        "\n",
        "    Args:\n",
        "        clf: Clasificador a evaluar.\n",
        "        X_train, y_train: Conjunto de entrenamiento.\n",
        "        X_test, y_test: Conjunto de test.\n",
        "        do_report: Si True, se muestra el report de clasificación.\n",
        "        do_cm: Si True, se muestra la matriz de confusión.\n",
        "        display_labels: Nombres de las clases para mostrar en la matriz de confusión.\n",
        "\n",
        "    Returns:\n",
        "        Diccionario con los resultados de la evaluación:\n",
        "            - Tiempo de entrenamiento.\n",
        "            - Accuracy en el conjunto de entrenamiento.\n",
        "            - Accuracy en el conjunto de test.\n",
        "    \"\"\"\n",
        "    # tiempo de entrenamiento\n",
        "    t0 = perf_counter()\n",
        "    clf.fit(X_train, y_train)\n",
        "    t1 = perf_counter()\n",
        "    y_pred = clf.predict(X_test)\n",
        "    y_pred_train = clf.predict(X_train)\n",
        "    if do_cm:\n",
        "        # matriz de confusión\n",
        "        cm_display = ConfusionMatrixDisplay.from_predictions(\n",
        "            y_test, y_pred, display_labels=display_labels, xticks_rotation=60.0\n",
        "        )\n",
        "        cm_display.ax_.set_title(repr(clf))\n",
        "    if do_report:\n",
        "        # report de clasificación\n",
        "        print(\n",
        "            classification_report(y_test, y_pred, target_names=display_labels, digits=2)\n",
        "        )\n",
        "    # recopilamos algunos resultados para reportarlos en otra función.\n",
        "    acc_train = accuracy_score(y_train, y_pred_train)\n",
        "    acc_test = accuracy_score(y_test, y_pred)\n",
        "    results = {\n",
        "        \"Tiempo train (sec.)\": t1 - t0,\n",
        "        \"Acc. (train)\": acc_train,\n",
        "        \"Acc. (test)\": acc_test,\n",
        "    }\n",
        "    return results\n",
        "\n",
        "\n",
        "def evaluar_clasificadores(clfs, X_train, y_train, X_test, y_test):\n",
        "    \"\"\"Evaluación de varios clasificadores.\"\"\"\n",
        "    assert iter(clfs), \"clfs debe ser un iterable de clasificadores.\"\n",
        "    display_labels = list(target_names_esp.values())\n",
        "    all_results = {}\n",
        "    name_mlen = 0\n",
        "    for clf in clfs:\n",
        "        name = repr(clf)\n",
        "        print(f\"\\n{name}:\\n{'-' * (len(name) + 1)}\")\n",
        "        all_results[name] = evaluar_clasificador(\n",
        "            clf, X_train, y_train, X_test, y_test, display_labels=display_labels\n",
        "        )\n",
        "        name_mlen = max(name_mlen, len(name))\n",
        "\n",
        "    # reporte global de precisión y tiempo de entrenamiento\n",
        "    headers = [f\"{'Modelo':<{name_mlen}}\"] + [\n",
        "        f\"{k:>{len(k)}}\" for k in all_results[name].keys()\n",
        "    ]\n",
        "    print(\"\\n\" + \"  \".join(headers))\n",
        "    print(\"-\" * len(\"  \".join(headers)))\n",
        "    for name, results in all_results.items():\n",
        "        row = [f\"{name:<{name_mlen}}\"] + [\n",
        "            f\"{v:>{len(k)}.2f}\" for k, v in results.items()\n",
        "        ]\n",
        "        print(\"  \".join(row))\n",
        "    print()"
      ]
    },
    {
      "cell_type": "markdown",
      "metadata": {
        "id": "hYBYORt9nkD8"
      },
      "source": [
        "La siguiente celda es **opcional** ejecutarla. Esta celda, evalúa uno de los clasificadores propuestos <br> \n",
        "en la P5, pero sobre los datos de entrenamiento de Fashion-MNIST. \n",
        "\n",
        "En esta Práctica 6, **ya aportamos un clasificador por defecto**. Por tanto, no es necesario <br> \n",
        "ejecutar esta celda. Solamente la dejamos por reproducibilidad y mayor claridad. <br>\n",
        "\n",
        "Empleamos LDA por ser más rápido y proporcionar resultados mejores a Bayes ingenuo y QDA."
      ]
    },
    {
      "cell_type": "code",
      "execution_count": 8,
      "metadata": {
        "colab": {
          "base_uri": "https://localhost:8080/",
          "height": 523
        },
        "id": "tNIvYVhHnkD8",
        "outputId": "77a8bfc3-b4ba-42db-d4e4-979c37fa201b"
      },
      "outputs": [
        {
          "name": "stdout",
          "output_type": "stream",
          "text": [
            "Evaluando LDA...\n"
          ]
        },
        {
          "data": {
            "image/png": "[encoded data removed]",
            "text/plain": [
              "<Figure size 500x500 with 1 Axes>"
            ]
          },
          "metadata": {},
          "output_type": "display_data"
        }
      ],
      "source": [
        "# Configuración para la validación cruzada de cada clasificador.\n",
        "clasificadores = {\n",
        "    \"LDA\": {\n",
        "        \"clf\": LinearDiscriminantAnalysis(solver=\"lsqr\"),\n",
        "        \"param_name\": \"shrinkage\",  # (1-shrinkage)*S + (shrinkage*Tr(S)/n)*I_n\n",
        "        \"param_range\": np.r_[0.0, np.logspace(-3, 0, 10)],\n",
        "    }\n",
        "}\n",
        "\n",
        "fig, ax = plt.subplots(len(clasificadores), 1, figsize=(5, 5 * len(clasificadores)))\n",
        "for i, (name, config) in enumerate(clasificadores.items()):\n",
        "    print(f\"Evaluando {name}...\")\n",
        "    ValidationCurveDisplay.from_estimator(\n",
        "        config[\"clf\"],\n",
        "        X_train,\n",
        "        y_train,\n",
        "        param_name=config[\"param_name\"],\n",
        "        param_range=config[\"param_range\"],\n",
        "        scoring=\"accuracy\",\n",
        "        cv=int(\n",
        "            len(X_train) / (0.25 * len(X_train))\n",
        "        ),  # 25% de las imágenes en cada fold\n",
        "        n_jobs=-1,  # usar todos los cores\n",
        "        ax=ax,\n",
        "    )\n",
        "    ax.set_title(name)\n",
        "    ax.set_xscale(\"symlog\", linthresh=1e-3)\n",
        "fig.tight_layout()"
      ]
    },
    {
      "cell_type": "markdown",
      "metadata": {
        "id": "39kFvNT2nkD8"
      },
      "source": [
        "Por completitud, añadimos los resultados de test y training para LDA:"
      ]
    },
    {
      "cell_type": "code",
      "execution_count": 9,
      "metadata": {
        "colab": {
          "base_uri": "https://localhost:8080/",
          "height": 946
        },
        "id": "PrhKR5XjnkD9",
        "outputId": "39c71909-708c-45ef-92e3-a7d6be6d3e94"
      },
      "outputs": [
        {
          "name": "stdout",
          "output_type": "stream",
          "text": [
            "\n",
            "LinearDiscriminantAnalysis(shrinkage=0.001, solver='lsqr'):\n",
            "-----------------------------------------------------------\n",
            "              precision    recall  f1-score   support\n",
            "\n",
            "    Camiseta       0.81      0.78      0.79      1000\n",
            "    Pantalón       1.00      0.93      0.96      1000\n",
            "      Suéter       0.70      0.68      0.69      1000\n",
            "     Vestido       0.80      0.84      0.82      1000\n",
            "      Abrigo       0.70      0.74      0.72      1000\n",
            "    Sandalia       0.89      0.89      0.89      1000\n",
            "      Camisa       0.54      0.56      0.55      1000\n",
            "   Zapatilla       0.88      0.89      0.89      1000\n",
            "       Bolso       0.93      0.92      0.93      1000\n",
            "        Bota       0.91      0.91      0.91      1000\n",
            "\n",
            "    accuracy                           0.81     10000\n",
            "   macro avg       0.82      0.81      0.82     10000\n",
            "weighted avg       0.82      0.81      0.82     10000\n",
            "\n",
            "\n",
            "Modelo                                                      Tiempo train (sec.)  Acc. (train)  Acc. (test)\n",
            "----------------------------------------------------------------------------------------------------------\n",
            "LinearDiscriminantAnalysis(shrinkage=0.001, solver='lsqr')                 2.28          0.83         0.81\n",
            "\n"
          ]
        },
        {
          "data": {
            "image/png": "[encoded data removed]",
            "text/plain": [
              "<Figure size 640x480 with 2 Axes>"
            ]
          },
          "metadata": {},
          "output_type": "display_data"
        }
      ],
      "source": [
        "lda = LinearDiscriminantAnalysis(shrinkage=0.001, solver=\"lsqr\")\n",
        "\n",
        "evaluar_clasificadores([lda], X_train, y_train, X_test, y_test)"
      ]
    },
    {
      "cell_type": "markdown",
      "metadata": {},
      "source": [
        "La siguiente celda instancia el *clasficador que emplearemos* en el resto de la práctica:"
      ]
    },
    {
      "cell_type": "code",
      "execution_count": 10,
      "metadata": {
        "id": "g52TEnKqnkD9"
      },
      "outputs": [],
      "source": [
        "clf = LinearDiscriminantAnalysis(shrinkage=0.001, solver=\"lsqr\")"
      ]
    },
    {
      "cell_type": "markdown",
      "metadata": {
        "id": "TIN6XPbOnkD9"
      },
      "source": [
        "## 2. Análisis de Componentes Principales (PCA)"
      ]
    },
    {
      "cell_type": "markdown",
      "metadata": {
        "id": "cpxE64fVnkD9"
      },
      "source": [
        "Para entender los resultados posteriores, en primer lugar visualiza las (6, por ejemplo) <br> \n",
        "componentes **más** y **menos principales**.\n",
        "\n",
        "Para visualizarlas, te recomendamos emplear la función `visualize_subset_in_grid` <br>\n",
        "definida anteriormente.\n",
        "\n",
        "Una vez las visualices, explica por qué crees que dichas componentes principales son así."
      ]
    },
    {
      "cell_type": "code",
      "execution_count": null,
      "metadata": {},
      "outputs": [],
      "source": [
        "# TODO: tu código"
      ]
    },
    {
      "cell_type": "markdown",
      "metadata": {
        "id": "mJl-ha82nkD-"
      },
      "source": [
        "### 2.1 a) ¿Con cuántas de las 784 componentes te puedes quedar sin alterar los resultados de la clasificación?\n",
        "\n",
        "Para contestar este apartado te recomendamos emplear la función `evaluar_clasificador` <br>\n",
        "definida anteriormente.\n",
        "\n",
        "Explica los resultados obtenidos."
      ]
    },
    {
      "cell_type": "code",
      "execution_count": 1,
      "metadata": {
        "id": "kXZn7SJvnkD-"
      },
      "outputs": [],
      "source": [
        "# TODO: tu código"
      ]
    },
    {
      "cell_type": "markdown",
      "metadata": {
        "id": "wj82skmqnkD_"
      },
      "source": [
        "### 2.1 b) Si reduces las dimensiones de los datos para mantener el 99% de la variabilidad, ¿qué tan buenos son los resultados de la clasificación?"
      ]
    },
    {
      "cell_type": "markdown",
      "metadata": {
        "id": "VF2nanCKnkD_"
      },
      "source": [
        "Comenta los resultados, compara con los obtenidos sin aplicar PCA (ya aportados en este template) <br>\n",
        "y con los que has obtenido en la pregunta anterior."
      ]
    },
    {
      "cell_type": "code",
      "execution_count": null,
      "metadata": {
        "id": "fLXZedC3nkD_"
      },
      "outputs": [],
      "source": [
        "# TODO: tu código"
      ]
    },
    {
      "cell_type": "markdown",
      "metadata": {},
      "source": [
        "### 2.1 c) Reconstruye alguna imagen del dataset de entrenamiento."
      ]
    },
    {
      "cell_type": "markdown",
      "metadata": {
        "id": "zH3v01wVnkD_"
      },
      "source": [
        "Cualitativamente, podemos comprobar la información retenida por las componentes, <br>\n",
        "reconstruyendo las imágenes desde el espacio de dimensionalidad reducida, y de forma <br>\n",
        "cuantitativa, mediante la métrica [***PSNR***](https://en.wikipedia.org/wiki/Peak_signal-to-noise_ratio) (*Peak Signal-to-Noise Ratio*).\n",
        "\n",
        "Puedes utilizar la función `calculate_psnr`, definida a continuación, para calcular el [PSNR](https://en.wikipedia.org/wiki/Peak_signal-to-noise_ratio) <br> \n",
        "de un conjunto de imágenes reconstruidas respecto a las originales. \n",
        "\n",
        "Para comparar visualmente las imágenes reconstruidas, te recomendamos completar la función <br> \n",
        "`show_reconstruction_vs_ncomponents`."
      ]
    },
    {
      "cell_type": "code",
      "execution_count": 11,
      "metadata": {
        "id": "L4P5J99wnkD_"
      },
      "outputs": [],
      "source": [
        "def calculate_psnr(imgs, reconstructed_imgs):\n",
        "    \"\"\"Peak Signal-to-Noise Ratio (PSNR) para batch de imágenes.\n",
        "\n",
        "    Args:\n",
        "        imgs: (n, d) array con n imágenes 28x28.\n",
        "        reconstructed_imgs: (n, d) array con las imágenes reconstruidas.\n",
        "\n",
        "    Returns:\n",
        "        psnr: (n,) array con el PSNR de cada imagen reconstruida.\n",
        "    \"\"\"\n",
        "    mse = np.mean((imgs - reconstructed_imgs) ** 2, axis=1)\n",
        "    psnr = np.empty_like(mse)\n",
        "    mask = mse == 0\n",
        "    psnr[mask] = np.inf\n",
        "    R2 = 1.0 if imgs.max() <= 1 + 1e-9 else 255**2  # rango de los píxeles\n",
        "    psnr[~mask] = 10 * np.log10(R2 / mse[~mask])\n",
        "    return psnr\n",
        "\n",
        "\n",
        "def show_reconstruction_vs_ncomponents(X, n_components=None, idx=None):\n",
        "    \"\"\"Reconstruye y visualiza una imagen a partir de sus componentes principales.\n",
        "\n",
        "    Esta función debería crear una figura con `nc` subplots, donde `nc` es el número de\n",
        "    componentes principales a usar para la reconstrucción (ver Args).\n",
        "\n",
        "    Args:\n",
        "        X: (n, d) array con n imágenes y dimensión d=28*28=784.\n",
        "        n_components: (nc,) array con el número de componentes (más) principales a usar\n",
        "            para la reconstrucción.\n",
        "            Por ejemplo, `n_components`=[10, 22, 35] correspondería a 3 subplots:\n",
        "                - subplot 1: reconstrucción usando 10 PCs,\n",
        "                - subplot 2: reconstrucción usando 22 PCs,\n",
        "                - subplot 3: reconstrucción usando 35 PCs.\n",
        "        idx: (int) Índice de la imagen a reconstruir.\n",
        "    \"\"\"\n",
        "    if n_components is None:\n",
        "        n_components = np.linspace(10, X.shape[1], 5).astype(int)\n",
        "    if idx is None:\n",
        "        idx = np.random.choice(len(X))\n",
        "\n",
        "    # TODO: tu código"
      ]
    },
    {
      "cell_type": "markdown",
      "metadata": {
        "id": "0eKsdGexnkD_"
      },
      "source": [
        "Ejemplo de resultado (recuerda completar `show_reconstruction_vs_ncomponents`):"
      ]
    },
    {
      "cell_type": "code",
      "execution_count": 15,
      "metadata": {
        "colab": {
          "base_uri": "https://localhost:8080/",
          "height": 208
        },
        "id": "mwlhTPHYnkD_",
        "outputId": "48e3628f-c0c2-4c0f-fa89-3f9c4d08953c"
      },
      "outputs": [
        {
          "data": {
            "image/png": "[encoded data removed]",
            "text/plain": [
              "<Figure size 1000x200 with 6 Axes>"
            ]
          },
          "metadata": {},
          "output_type": "display_data"
        }
      ],
      "source": [
        "idx = None\n",
        "n_components = np.linspace(10, X_train.shape[1], 5).astype(int)\n",
        "show_reconstruction_vs_ncomponents(X_train, n_components, idx)"
      ]
    },
    {
      "cell_type": "markdown",
      "metadata": {
        "id": "9lvOd4ebnkEA"
      },
      "source": [
        "### 2. Filtrado de ruido en imágenes."
      ]
    },
    {
      "cell_type": "markdown",
      "metadata": {
        "id": "7Ido1PlTnkEA"
      },
      "source": [
        "En esta última parte, vamos a analizar la utilidad de PCA para filtrar ruido Gaussiano en imágenes."
      ]
    },
    {
      "cell_type": "code",
      "execution_count": 12,
      "metadata": {
        "id": "BRVnu6GpnkEA"
      },
      "outputs": [],
      "source": [
        "def add_noise_to_images(X, noise_std):\n",
        "    \"\"\"Añade ruido Gaussiano (centrado en 0) de magnitud `noise_std` a las imágenes .\"\"\"\n",
        "    return np.clip(X + noise_std * np.random.randn(*X.shape), 0, 1)"
      ]
    },
    {
      "cell_type": "markdown",
      "metadata": {
        "id": "aVvON7MlnkEA"
      },
      "source": [
        "El siguiente widget visualiza de forma interactiva como afecta el ruido a las imágenes de <br>\n",
        "Fashion-MNIST, para diferentes valores de `noise_std`:"
      ]
    },
    {
      "cell_type": "code",
      "execution_count": 13,
      "metadata": {
        "colab": {
          "base_uri": "https://localhost:8080/",
          "height": 639,
          "referenced_widgets": [
            "d2209ea1572148b0a39dd74bd8dd23e7",
            "36e586adfa1c4640820a08424a6440f3",
            "cbb1af8827324668bc5d38e91e800dea",
            "f05d8b7f74754ea3a02464b55a8c2a32",
            "b94ee3f1269e47c591c6313ea86b5e8a",
            "fffe992f49544fb0890b9ad7c847ba3a",
            "3e20dbb38a6c4ce088d38999ed3ae869"
          ]
        },
        "id": "Xg2fcAB0nkEA",
        "outputId": "c9de343a-75a3-4a62-a348-632053e1c9d5"
      },
      "outputs": [
        {
          "data": {
            "application/vnd.jupyter.widget-view+json": {
              "model_id": "370611cc7438430e9d29b56dd21db50f",
              "version_major": 2,
              "version_minor": 0
            },
            "text/plain": [
              "interactive(children=(FloatSlider(value=0.3, description='noise_level', max=0.5, step=0.01), Output()), _dom_c…"
            ]
          },
          "metadata": {},
          "output_type": "display_data"
        }
      ],
      "source": [
        "ncols = 3\n",
        "subset = np.random.choice(len(X_train), 12, replace=False)\n",
        "nrows = int(np.ceil(len(subset) / ncols))\n",
        "\n",
        "\n",
        "@widgets.interact(noise_level=(0, 0.5, 0.01))\n",
        "def display_images(noise_level=0.3):\n",
        "    images = X_train[subset]\n",
        "    images = add_noise_to_images(images, noise_level)\n",
        "    fig, ax = plt.subplots(nrows, ncols, figsize=(ncols * 1.5, nrows * 1.5))\n",
        "    visualize_subset_in_grid(\n",
        "        images, y_train[subset], subset=len(subset), fig=fig, ax=ax, random=False\n",
        "    )\n",
        "    plt.show()"
      ]
    },
    {
      "cell_type": "markdown",
      "metadata": {
        "id": "b5nQl9sKnkEA"
      },
      "source": [
        "La siguiente celda controla el ruido añadido al dateset mediante `noise_std`:"
      ]
    },
    {
      "cell_type": "code",
      "execution_count": 14,
      "metadata": {
        "id": "GvGsZ9jEnkEA"
      },
      "outputs": [],
      "source": [
        "noise_std = 0.3\n",
        "X_train_noisy = add_noise_to_images(X_train, noise_std=noise_std)\n",
        "X_test_noisy = add_noise_to_images(X_test, noise_std=noise_std)"
      ]
    },
    {
      "cell_type": "markdown",
      "metadata": {
        "id": "4qeNZwV1nkEB"
      },
      "source": [
        "#### 2. a) Utiliza PCA para eliminar el ruido de las imágenes.\n",
        "\n",
        "En la siguiente celda, visualizamos de forma interactiva el *PSNR* de **todas** las imágenes reconstruidas <br>\n",
        "con PCA, en función del número de componentes principales indicadas con el slider `n_components`. \n",
        "\n",
        "También se visualiza el filtrado de ruido para una imagen de forma interactiva <br> \n",
        "(seleccionada con el slider `idx`)."
      ]
    },
    {
      "cell_type": "code",
      "execution_count": 19,
      "metadata": {
        "colab": {
          "base_uri": "https://localhost:8080/",
          "height": 571,
          "referenced_widgets": [
            "f71399851f514a2a9a0de9cd3cc77f3e",
            "9a7f1510635447108e3407b9dcce3e1d",
            "db53151b4d9647b6b49043b0306665f9",
            "fe5fb3d737294f0194297098e30d9bcc",
            "3433710dbd4a4b1d9780783ab4f3e3f0",
            "ce6839f09167431daed97caff9e241f7",
            "7b8ae9f96e9041388e95e0d3d4aab474",
            "a9598b0de7b2428ebaedef2635bcf546",
            "12c4a8de1c1e41bdb5478fef4ee4538e",
            "e390c4fabccd4c5ebe2ca6f6333449fa"
          ]
        },
        "id": "3Cyl9aoQnkEB",
        "outputId": "e0839d24-b84e-4429-a27d-b1f0bc009bac"
      },
      "outputs": [
        {
          "data": {
            "application/vnd.jupyter.widget-view+json": {
              "model_id": "b8b7c7cf1f554fb09b6304dbb505d7ac",
              "version_major": 2,
              "version_minor": 0
            },
            "text/plain": [
              "interactive(children=(IntSlider(value=784, description='n_components', max=784, min=4, step=10), IntSlider(val…"
            ]
          },
          "metadata": {},
          "output_type": "display_data"
        }
      ],
      "source": [
        "pca_full = PCA()\n",
        "pca_full.fit(X_train_noisy)\n",
        "components_full = pca_full.components_  # (n_components, 784)\n",
        "# reference PSNR values.\n",
        "psnr_noisy = calculate_psnr(X_train, X_train_noisy)\n",
        "min_noisy = np.min(psnr_noisy)\n",
        "max_noisy = np.max(psnr_noisy)\n",
        "\n",
        "\n",
        "@widgets.interact(n_components=(4, 784, 10), idx=(0, len(X_train_noisy), 1))\n",
        "def show_reconstruction_vs_ncomponents(n_components=784, idx=0):\n",
        "    \"\"\"Visualización interactiva del filtrado de ruido con PCA.\"\"\"\n",
        "    # Monkey-patching para evitar calcular de nuevo los componentes principales.\n",
        "    pca_full.components_ = components_full[:n_components]\n",
        "    # imágenes filtradas con PCA y sus correspondientes PSNR.\n",
        "    X_recon = pca_full.inverse_transform(pca_full.transform(X_train_noisy))\n",
        "\n",
        "    psnr_pca = calculate_psnr(X_train, X_recon)  # (n,)\n",
        "    binwidth = 0.1\n",
        "    bins = np.arange(\n",
        "        min(min_noisy, np.min(psnr_pca)),\n",
        "        max(max_noisy, np.max(psnr_pca)) + binwidth,\n",
        "        binwidth,\n",
        "    )\n",
        "    # visualización\n",
        "    fig, ax = plt.subplots(2, 2, figsize=(5, 5))\n",
        "    ax[0, 0].imshow(X_train[idx].reshape(28, 28), cmap=\"gray\")\n",
        "    ax[0, 0].set_title(\"Original\")\n",
        "    ax[0, 1].imshow(X_train_noisy[idx].reshape(28, 28), cmap=\"gray\")\n",
        "    ax[0, 1].set_title(\"Ruidosa\")\n",
        "    ax[1, 0].imshow(X_recon[idx].reshape(28, 28), cmap=\"gray\")\n",
        "    ax[1, 0].set_title(\"Filtrada\")\n",
        "    # psnr histograms\n",
        "    ax[1, 1].hist(psnr_noisy, bins=bins, alpha=0.5, label=\"Ruidosa\")\n",
        "    ax[1, 1].hist(psnr_pca, bins=bins, alpha=0.5, label=\"Filtrada\")\n",
        "    ax[1, 1].set_xlabel(\"PSNR\")\n",
        "    ax[1, 1].legend()\n",
        "    fig.tight_layout()\n",
        "    plt.show()"
      ]
    },
    {
      "cell_type": "markdown",
      "metadata": {
        "id": "IfKHDkgjnkEB"
      },
      "source": [
        "Modifica los niveles de ruido (`noise_std`) y utiliza el widget para explicar el comportamiento de <br>\n",
        "PCA.\n",
        "\n",
        "Para explicarlo, te recomendamos comparar los valores singulares, con y sin ruido (accesibles con el <br>\n",
        "atributo [`singular_values_`](https://scikit-learn.org/stable/modules/generated/sklearn.decomposition.PCA.html#:~:text=equal%20to%201.0.-,singular_values_,-ndarray%20of%20shape)) \n",
        "o visualizando, para las imágenes ruidosas, la curva con: <br> \n",
        "(eje y) error de reconstrucción o PSNR, (eje x) número de componentes empleados en la reconstrucción."
      ]
    },
    {
      "cell_type": "code",
      "execution_count": null,
      "metadata": {
        "id": "eqWsM2jMAe_R"
      },
      "outputs": [],
      "source": [
        "# TODO: tu código"
      ]
    },
    {
      "cell_type": "markdown",
      "metadata": {
        "id": "sz4lp5yJnkEB"
      },
      "source": [
        "#### 2. c) Evalúa el clasificador Bayesiano en imágenes de test ruidosas y en el espacio PCA"
      ]
    },
    {
      "cell_type": "code",
      "execution_count": null,
      "metadata": {
        "id": "UOj65mPpAXAO"
      },
      "outputs": [],
      "source": [
        "# TODO: tu código"
      ]
    },
    {
      "cell_type": "markdown",
      "metadata": {
        "id": "QaHiNoruAbAR"
      },
      "source": [
        "Explica de forma razonada los resultados y las decisiones tomadas."
      ]
    },
    {
      "cell_type": "markdown",
      "metadata": {},
      "source": [
        "### 2.3. Interpretación visual de PCA $\\to$ Visualización 3D\n",
        "\n",
        "Una forma intersante de interpretar el resultado de PCA es visualizar la localización <br>\n",
        "de los datos (imágenes de Fashion-MNIST) según las 3 primeras componentes principales <br> \n",
        "$PC_1, PC_2, PC_3$.\n",
        "\n",
        "En primer lugar, importamos algunas librerías adicionales necesarias para la visualización 3D:"
      ]
    },
    {
      "cell_type": "code",
      "execution_count": null,
      "metadata": {},
      "outputs": [],
      "source": [
        "import io\n",
        "\n",
        "from PIL import Image\n",
        "\n",
        "# en Google Colab?\n",
        "try:\n",
        "    import google.colab  # type:ignore\n",
        "\n",
        "    IN_COLAB = True\n",
        "    from IPython.display import HTML, display\n",
        "except ImportError:\n",
        "    IN_COLAB = False\n",
        "\n",
        "# k3d instalado?:\n",
        "try:\n",
        "    import k3d\n",
        "except ImportError as e:\n",
        "    print(\"Instalando K3D-jupyter...\")\n",
        "    if IN_COLAB:\n",
        "        %pip install k3d\n",
        "        import k3d\n",
        "    else:\n",
        "        print(\n",
        "            \"Por favor, instala K3D-jupyter en tu entorno virtual. Por ejemplo (en conda), con:\\n\"\n",
        "            \"conda install k3d -c conda-forge\"\n",
        "        )\n",
        "        raise e\n"
      ]
    },
    {
      "cell_type": "markdown",
      "metadata": {},
      "source": [
        "Función para visualizar las imágenes en 3D:"
      ]
    },
    {
      "cell_type": "code",
      "execution_count": 73,
      "metadata": {},
      "outputs": [],
      "source": [
        "def plot_pca_3d(X, n_images, random=False):\n",
        "    \"\"\"Función auxiliar para visualizar un subset de imágenes en 3D usando PCA.\"\"\"\n",
        "    assert len(X) >= n_images, f\"Solo hay {len(X)} imágenes en el dataset.\"\n",
        "    pca_3d = PCA(n_components=3)\n",
        "    pca_3d.fit(X)\n",
        "    idx = (\n",
        "        np.random.choice(len(X), n_images, replace=False)\n",
        "        if random\n",
        "        else np.arange(n_images)\n",
        "    )\n",
        "    subset = X[idx]\n",
        "    subset_pca = pca_3d.transform(subset)  # (ns, n_components)\n",
        "    subset_gray = (255 * subset).astype(np.uint8).reshape(-1, 28, 28)\n",
        "    # transform to PIL images for later conversion to binary\n",
        "    subset_pil = [Image.fromarray(subset_gray[i], mode=\"L\") for i in range(len(subset))]\n",
        "\n",
        "    # initialize plot\n",
        "    plot = k3d.factory.plot(\n",
        "        grid_visible=False,\n",
        "        camera_mode=\"trackball\",\n",
        "        camera_auto_fit=False,\n",
        "    )\n",
        "\n",
        "    # add images as textures\n",
        "    for i, im in enumerate(subset_pil):\n",
        "        image_bytes = io.BytesIO()\n",
        "        image_format = \"PNG\"  # or 'JPEG'\n",
        "        im.save(image_bytes, format=image_format)\n",
        "        im_bytes = image_bytes.getvalue()\n",
        "        plt_texture = k3d.texture(\n",
        "            im_bytes, file_format=\"png\", translation=subset_pca[i]\n",
        "        )\n",
        "        plot += plt_texture\n",
        "\n",
        "    # add origin coordinate frame\n",
        "    scale = np.abs(subset_pca).mean()\n",
        "    plot += k3d.vectors(\n",
        "        np.zeros((3, 3), dtype=np.float32),\n",
        "        scale * np.eye(3, dtype=np.float32),\n",
        "        # [R, R, G, G, B, B]\n",
        "        colors=[0xFF0000, 0xFF0000, 0x00FF00, 0x00FF00, 0x0000FF, 0x0000FF],\n",
        "        labels=[\"X\", \"Y\", \"Z\"],\n",
        "        line_width=5e-2,\n",
        "        head_size=3.0,\n",
        "    )\n",
        "\n",
        "    # set camera position\n",
        "    # fmt:off\n",
        "    plot.camera = [\n",
        "        0.0, 0.0, 5.0 * scale, # xyz\n",
        "        0.0, 0.0, 0.0,\n",
        "        0.0, -1.0, 0.0,\n",
        "    ]\n",
        "    # fmt:on\n",
        "    if IN_COLAB:\n",
        "        plot.snapshot_type = \"inline\"\n",
        "        display(HTML(plot.get_snapshot()))\n",
        "    else:\n",
        "        plot.display()\n",
        "    return plot"
      ]
    },
    {
      "cell_type": "markdown",
      "metadata": {},
      "source": [
        "¿Qué determina la ubicación de las imágenes en 3D?\n",
        "\n",
        "¿Qué efecto tiene PCA en la distribución de las imágenes de la siguiente visualización?\n",
        "\n",
        "¿Se observa el mismo tipo de distribución si se emplean las imágenes ruidosas? ¿Por qué?\n",
        "\n",
        "<div class=\"alert alert-block alert-info\">\n",
        "🛈 Al ejecutar por primera vez la siguiente celda, es posible que aparezca el Warning: <br>\n",
        "<em>\"Widgets require us to install supporting files from a 3rd party website\"</em><br>\n",
        "En ese caso Presiona \"Ok\"\n",
        "</div>"
      ]
    },
    {
      "cell_type": "code",
      "execution_count": 74,
      "metadata": {},
      "outputs": [
        {
          "data": {
            "application/vnd.jupyter.widget-view+json": {
              "model_id": "acbfa8d219d64cc88886fd284aab9560",
              "version_major": 2,
              "version_minor": 0
            },
            "text/plain": [
              "Output()"
            ]
          },
          "metadata": {},
          "output_type": "display_data"
        }
      ],
      "source": [
        "plot = plot_pca_3d(X_train, 100, random=False)"
      ]
    }
  ],
  "metadata": {
    "colab": {
      "provenance": []
    },
    "kernelspec": {
      "display_name": "apr24",
      "language": "python",
      "name": "python3"
    },
    "language_info": {
      "codemirror_mode": {
        "name": "ipython",
        "version": 3
      },
      "file_extension": ".py",
      "mimetype": "text/x-python",
      "name": "python",
      "nbconvert_exporter": "python",
      "pygments_lexer": "ipython3",
      "version": "3.10.14"
    },
    "widgets": {
      "application/vnd.jupyter.widget-state+json": {
        "12c4a8de1c1e41bdb5478fef4ee4538e": {
          "model_module": "@jupyter-widgets/controls",
          "model_module_version": "1.5.0",
          "model_name": "SliderStyleModel",
          "state": {
            "_model_module": "@jupyter-widgets/controls",
            "_model_module_version": "1.5.0",
            "_model_name": "SliderStyleModel",
            "_view_count": null,
            "_view_module": "@jupyter-widgets/base",
            "_view_module_version": "1.2.0",
            "_view_name": "StyleView",
            "description_width": "",
            "handle_color": null
          }
        },
        "3433710dbd4a4b1d9780783ab4f3e3f0": {
          "model_module": "@jupyter-widgets/base",
          "model_module_version": "1.2.0",
          "model_name": "LayoutModel",
          "state": {
            "_model_module": "@jupyter-widgets/base",
            "_model_module_version": "1.2.0",
            "_model_name": "LayoutModel",
            "_view_count": null,
            "_view_module": "@jupyter-widgets/base",
            "_view_module_version": "1.2.0",
            "_view_name": "LayoutView",
            "align_content": null,
            "align_items": null,
            "align_self": null,
            "border": null,
            "bottom": null,
            "display": null,
            "flex": null,
            "flex_flow": null,
            "grid_area": null,
            "grid_auto_columns": null,
            "grid_auto_flow": null,
            "grid_auto_rows": null,
            "grid_column": null,
            "grid_gap": null,
            "grid_row": null,
            "grid_template_areas": null,
            "grid_template_columns": null,
            "grid_template_rows": null,
            "height": null,
            "justify_content": null,
            "justify_items": null,
            "left": null,
            "margin": null,
            "max_height": null,
            "max_width": null,
            "min_height": null,
            "min_width": null,
            "object_fit": null,
            "object_position": null,
            "order": null,
            "overflow": null,
            "overflow_x": null,
            "overflow_y": null,
            "padding": null,
            "right": null,
            "top": null,
            "visibility": null,
            "width": null
          }
        },
        "36e586adfa1c4640820a08424a6440f3": {
          "model_module": "@jupyter-widgets/controls",
          "model_module_version": "1.5.0",
          "model_name": "FloatSliderModel",
          "state": {
            "_dom_classes": [],
            "_model_module": "@jupyter-widgets/controls",
            "_model_module_version": "1.5.0",
            "_model_name": "FloatSliderModel",
            "_view_count": null,
            "_view_module": "@jupyter-widgets/controls",
            "_view_module_version": "1.5.0",
            "_view_name": "FloatSliderView",
            "continuous_update": true,
            "description": "noise_level",
            "description_tooltip": null,
            "disabled": false,
            "layout": "IPY_MODEL_b94ee3f1269e47c591c6313ea86b5e8a",
            "max": 0.5,
            "min": 0,
            "orientation": "horizontal",
            "readout": true,
            "readout_format": ".2f",
            "step": 0.01,
            "style": "IPY_MODEL_fffe992f49544fb0890b9ad7c847ba3a",
            "value": 0.41
          }
        },
        "3e20dbb38a6c4ce088d38999ed3ae869": {
          "model_module": "@jupyter-widgets/base",
          "model_module_version": "1.2.0",
          "model_name": "LayoutModel",
          "state": {
            "_model_module": "@jupyter-widgets/base",
            "_model_module_version": "1.2.0",
            "_model_name": "LayoutModel",
            "_view_count": null,
            "_view_module": "@jupyter-widgets/base",
            "_view_module_version": "1.2.0",
            "_view_name": "LayoutView",
            "align_content": null,
            "align_items": null,
            "align_self": null,
            "border": null,
            "bottom": null,
            "display": null,
            "flex": null,
            "flex_flow": null,
            "grid_area": null,
            "grid_auto_columns": null,
            "grid_auto_flow": null,
            "grid_auto_rows": null,
            "grid_column": null,
            "grid_gap": null,
            "grid_row": null,
            "grid_template_areas": null,
            "grid_template_columns": null,
            "grid_template_rows": null,
            "height": null,
            "justify_content": null,
            "justify_items": null,
            "left": null,
            "margin": null,
            "max_height": null,
            "max_width": null,
            "min_height": null,
            "min_width": null,
            "object_fit": null,
            "object_position": null,
            "order": null,
            "overflow": null,
            "overflow_x": null,
            "overflow_y": null,
            "padding": null,
            "right": null,
            "top": null,
            "visibility": null,
            "width": null
          }
        },
        "7b8ae9f96e9041388e95e0d3d4aab474": {
          "model_module": "@jupyter-widgets/controls",
          "model_module_version": "1.5.0",
          "model_name": "SliderStyleModel",
          "state": {
            "_model_module": "@jupyter-widgets/controls",
            "_model_module_version": "1.5.0",
            "_model_name": "SliderStyleModel",
            "_view_count": null,
            "_view_module": "@jupyter-widgets/base",
            "_view_module_version": "1.2.0",
            "_view_name": "StyleView",
            "description_width": "",
            "handle_color": null
          }
        },
        "9a7f1510635447108e3407b9dcce3e1d": {
          "model_module": "@jupyter-widgets/controls",
          "model_module_version": "1.5.0",
          "model_name": "IntSliderModel",
          "state": {
            "_dom_classes": [],
            "_model_module": "@jupyter-widgets/controls",
            "_model_module_version": "1.5.0",
            "_model_name": "IntSliderModel",
            "_view_count": null,
            "_view_module": "@jupyter-widgets/controls",
            "_view_module_version": "1.5.0",
            "_view_name": "IntSliderView",
            "continuous_update": true,
            "description": "n_components",
            "description_tooltip": null,
            "disabled": false,
            "layout": "IPY_MODEL_ce6839f09167431daed97caff9e241f7",
            "max": 784,
            "min": 4,
            "orientation": "horizontal",
            "readout": true,
            "readout_format": "d",
            "step": 10,
            "style": "IPY_MODEL_7b8ae9f96e9041388e95e0d3d4aab474",
            "value": 4
          }
        },
        "a9598b0de7b2428ebaedef2635bcf546": {
          "model_module": "@jupyter-widgets/base",
          "model_module_version": "1.2.0",
          "model_name": "LayoutModel",
          "state": {
            "_model_module": "@jupyter-widgets/base",
            "_model_module_version": "1.2.0",
            "_model_name": "LayoutModel",
            "_view_count": null,
            "_view_module": "@jupyter-widgets/base",
            "_view_module_version": "1.2.0",
            "_view_name": "LayoutView",
            "align_content": null,
            "align_items": null,
            "align_self": null,
            "border": null,
            "bottom": null,
            "display": null,
            "flex": null,
            "flex_flow": null,
            "grid_area": null,
            "grid_auto_columns": null,
            "grid_auto_flow": null,
            "grid_auto_rows": null,
            "grid_column": null,
            "grid_gap": null,
            "grid_row": null,
            "grid_template_areas": null,
            "grid_template_columns": null,
            "grid_template_rows": null,
            "height": null,
            "justify_content": null,
            "justify_items": null,
            "left": null,
            "margin": null,
            "max_height": null,
            "max_width": null,
            "min_height": null,
            "min_width": null,
            "object_fit": null,
            "object_position": null,
            "order": null,
            "overflow": null,
            "overflow_x": null,
            "overflow_y": null,
            "padding": null,
            "right": null,
            "top": null,
            "visibility": null,
            "width": null
          }
        },
        "b94ee3f1269e47c591c6313ea86b5e8a": {
          "model_module": "@jupyter-widgets/base",
          "model_module_version": "1.2.0",
          "model_name": "LayoutModel",
          "state": {
            "_model_module": "@jupyter-widgets/base",
            "_model_module_version": "1.2.0",
            "_model_name": "LayoutModel",
            "_view_count": null,
            "_view_module": "@jupyter-widgets/base",
            "_view_module_version": "1.2.0",
            "_view_name": "LayoutView",
            "align_content": null,
            "align_items": null,
            "align_self": null,
            "border": null,
            "bottom": null,
            "display": null,
            "flex": null,
            "flex_flow": null,
            "grid_area": null,
            "grid_auto_columns": null,
            "grid_auto_flow": null,
            "grid_auto_rows": null,
            "grid_column": null,
            "grid_gap": null,
            "grid_row": null,
            "grid_template_areas": null,
            "grid_template_columns": null,
            "grid_template_rows": null,
            "height": null,
            "justify_content": null,
            "justify_items": null,
            "left": null,
            "margin": null,
            "max_height": null,
            "max_width": null,
            "min_height": null,
            "min_width": null,
            "object_fit": null,
            "object_position": null,
            "order": null,
            "overflow": null,
            "overflow_x": null,
            "overflow_y": null,
            "padding": null,
            "right": null,
            "top": null,
            "visibility": null,
            "width": null
          }
        },
        "cbb1af8827324668bc5d38e91e800dea": {
          "model_module": "@jupyter-widgets/output",
          "model_module_version": "1.0.0",
          "model_name": "OutputModel",
          "state": {
            "_dom_classes": [],
            "_model_module": "@jupyter-widgets/output",
            "_model_module_version": "1.0.0",
            "_model_name": "OutputModel",
            "_view_count": null,
            "_view_module": "@jupyter-widgets/output",
            "_view_module_version": "1.0.0",
            "_view_name": "OutputView",
            "layout": "IPY_MODEL_3e20dbb38a6c4ce088d38999ed3ae869",
            "msg_id": "",
            "outputs": [
              {
                "data": {
                  "image/png": "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\n",
                  "text/plain": "<Figure size 450x600 with 12 Axes>"
                },
                "metadata": {},
                "output_type": "display_data"
              }
            ]
          }
        },
        "ce6839f09167431daed97caff9e241f7": {
          "model_module": "@jupyter-widgets/base",
          "model_module_version": "1.2.0",
          "model_name": "LayoutModel",
          "state": {
            "_model_module": "@jupyter-widgets/base",
            "_model_module_version": "1.2.0",
            "_model_name": "LayoutModel",
            "_view_count": null,
            "_view_module": "@jupyter-widgets/base",
            "_view_module_version": "1.2.0",
            "_view_name": "LayoutView",
            "align_content": null,
            "align_items": null,
            "align_self": null,
            "border": null,
            "bottom": null,
            "display": null,
            "flex": null,
            "flex_flow": null,
            "grid_area": null,
            "grid_auto_columns": null,
            "grid_auto_flow": null,
            "grid_auto_rows": null,
            "grid_column": null,
            "grid_gap": null,
            "grid_row": null,
            "grid_template_areas": null,
            "grid_template_columns": null,
            "grid_template_rows": null,
            "height": null,
            "justify_content": null,
            "justify_items": null,
            "left": null,
            "margin": null,
            "max_height": null,
            "max_width": null,
            "min_height": null,
            "min_width": null,
            "object_fit": null,
            "object_position": null,
            "order": null,
            "overflow": null,
            "overflow_x": null,
            "overflow_y": null,
            "padding": null,
            "right": null,
            "top": null,
            "visibility": null,
            "width": null
          }
        },
        "d2209ea1572148b0a39dd74bd8dd23e7": {
          "model_module": "@jupyter-widgets/controls",
          "model_module_version": "1.5.0",
          "model_name": "VBoxModel",
          "state": {
            "_dom_classes": [
              "widget-interact"
            ],
            "_model_module": "@jupyter-widgets/controls",
            "_model_module_version": "1.5.0",
            "_model_name": "VBoxModel",
            "_view_count": null,
            "_view_module": "@jupyter-widgets/controls",
            "_view_module_version": "1.5.0",
            "_view_name": "VBoxView",
            "box_style": "",
            "children": [
              "IPY_MODEL_36e586adfa1c4640820a08424a6440f3",
              "IPY_MODEL_cbb1af8827324668bc5d38e91e800dea"
            ],
            "layout": "IPY_MODEL_f05d8b7f74754ea3a02464b55a8c2a32"
          }
        },
        "db53151b4d9647b6b49043b0306665f9": {
          "model_module": "@jupyter-widgets/controls",
          "model_module_version": "1.5.0",
          "model_name": "IntSliderModel",
          "state": {
            "_dom_classes": [],
            "_model_module": "@jupyter-widgets/controls",
            "_model_module_version": "1.5.0",
            "_model_name": "IntSliderModel",
            "_view_count": null,
            "_view_module": "@jupyter-widgets/controls",
            "_view_module_version": "1.5.0",
            "_view_name": "IntSliderView",
            "continuous_update": true,
            "description": "idx",
            "description_tooltip": null,
            "disabled": false,
            "layout": "IPY_MODEL_a9598b0de7b2428ebaedef2635bcf546",
            "max": 60000,
            "min": 0,
            "orientation": "horizontal",
            "readout": true,
            "readout_format": "d",
            "step": 1,
            "style": "IPY_MODEL_12c4a8de1c1e41bdb5478fef4ee4538e",
            "value": 24194
          }
        },
        "e390c4fabccd4c5ebe2ca6f6333449fa": {
          "model_module": "@jupyter-widgets/base",
          "model_module_version": "1.2.0",
          "model_name": "LayoutModel",
          "state": {
            "_model_module": "@jupyter-widgets/base",
            "_model_module_version": "1.2.0",
            "_model_name": "LayoutModel",
            "_view_count": null,
            "_view_module": "@jupyter-widgets/base",
            "_view_module_version": "1.2.0",
            "_view_name": "LayoutView",
            "align_content": null,
            "align_items": null,
            "align_self": null,
            "border": null,
            "bottom": null,
            "display": null,
            "flex": null,
            "flex_flow": null,
            "grid_area": null,
            "grid_auto_columns": null,
            "grid_auto_flow": null,
            "grid_auto_rows": null,
            "grid_column": null,
            "grid_gap": null,
            "grid_row": null,
            "grid_template_areas": null,
            "grid_template_columns": null,
            "grid_template_rows": null,
            "height": null,
            "justify_content": null,
            "justify_items": null,
            "left": null,
            "margin": null,
            "max_height": null,
            "max_width": null,
            "min_height": null,
            "min_width": null,
            "object_fit": null,
            "object_position": null,
            "order": null,
            "overflow": null,
            "overflow_x": null,
            "overflow_y": null,
            "padding": null,
            "right": null,
            "top": null,
            "visibility": null,
            "width": null
          }
        },
        "f05d8b7f74754ea3a02464b55a8c2a32": {
          "model_module": "@jupyter-widgets/base",
          "model_module_version": "1.2.0",
          "model_name": "LayoutModel",
          "state": {
            "_model_module": "@jupyter-widgets/base",
            "_model_module_version": "1.2.0",
            "_model_name": "LayoutModel",
            "_view_count": null,
            "_view_module": "@jupyter-widgets/base",
            "_view_module_version": "1.2.0",
            "_view_name": "LayoutView",
            "align_content": null,
            "align_items": null,
            "align_self": null,
            "border": null,
            "bottom": null,
            "display": null,
            "flex": null,
            "flex_flow": null,
            "grid_area": null,
            "grid_auto_columns": null,
            "grid_auto_flow": null,
            "grid_auto_rows": null,
            "grid_column": null,
            "grid_gap": null,
            "grid_row": null,
            "grid_template_areas": null,
            "grid_template_columns": null,
            "grid_template_rows": null,
            "height": null,
            "justify_content": null,
            "justify_items": null,
            "left": null,
            "margin": null,
            "max_height": null,
            "max_width": null,
            "min_height": null,
            "min_width": null,
            "object_fit": null,
            "object_position": null,
            "order": null,
            "overflow": null,
            "overflow_x": null,
            "overflow_y": null,
            "padding": null,
            "right": null,
            "top": null,
            "visibility": null,
            "width": null
          }
        },
        "f71399851f514a2a9a0de9cd3cc77f3e": {
          "model_module": "@jupyter-widgets/controls",
          "model_module_version": "1.5.0",
          "model_name": "VBoxModel",
          "state": {
            "_dom_classes": [
              "widget-interact"
            ],
            "_model_module": "@jupyter-widgets/controls",
            "_model_module_version": "1.5.0",
            "_model_name": "VBoxModel",
            "_view_count": null,
            "_view_module": "@jupyter-widgets/controls",
            "_view_module_version": "1.5.0",
            "_view_name": "VBoxView",
            "box_style": "",
            "children": [
              "IPY_MODEL_9a7f1510635447108e3407b9dcce3e1d",
              "IPY_MODEL_db53151b4d9647b6b49043b0306665f9",
              "IPY_MODEL_fe5fb3d737294f0194297098e30d9bcc"
            ],
            "layout": "IPY_MODEL_3433710dbd4a4b1d9780783ab4f3e3f0"
          }
        },
        "fe5fb3d737294f0194297098e30d9bcc": {
          "model_module": "@jupyter-widgets/output",
          "model_module_version": "1.0.0",
          "model_name": "OutputModel",
          "state": {
            "_dom_classes": [],
            "_model_module": "@jupyter-widgets/output",
            "_model_module_version": "1.0.0",
            "_model_name": "OutputModel",
            "_view_count": null,
            "_view_module": "@jupyter-widgets/output",
            "_view_module_version": "1.0.0",
            "_view_name": "OutputView",
            "layout": "IPY_MODEL_e390c4fabccd4c5ebe2ca6f6333449fa",
            "msg_id": "",
            "outputs": [
              {
                "data": {
                  "image/png": "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\n",
                  "text/plain": "<Figure size 500x500 with 4 Axes>"
                },
                "metadata": {},
                "output_type": "display_data"
              }
            ]
          }
        },
        "fffe992f49544fb0890b9ad7c847ba3a": {
          "model_module": "@jupyter-widgets/controls",
          "model_module_version": "1.5.0",
          "model_name": "SliderStyleModel",
          "state": {
            "_model_module": "@jupyter-widgets/controls",
            "_model_module_version": "1.5.0",
            "_model_name": "SliderStyleModel",
            "_view_count": null,
            "_view_module": "@jupyter-widgets/base",
            "_view_module_version": "1.2.0",
            "_view_name": "StyleView",
            "description_width": "",
            "handle_color": null
          }
        }
      }
    }
  },
  "nbformat": 4,
  "nbformat_minor": 0
}
